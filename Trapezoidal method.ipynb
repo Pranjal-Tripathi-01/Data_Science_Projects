{
 "cells": [
  {
   "cell_type": "code",
   "execution_count": 5,
   "id": "32f7081d",
   "metadata": {},
   "outputs": [
    {
     "name": "stdout",
     "output_type": "stream",
     "text": [
      "Enter lower limit of integration: 0\n",
      "Enter upper limit of integration: 1\n",
      "Enter number of sub intervals: 6\n",
      "Integration result by Trapezoidal method is: 0.784241\n"
     ]
    }
   ],
   "source": [
    "def f(x):\n",
    "    return 1/(1 + x**2)\n",
    "\n",
    "\n",
    "def trapezoidal(x0,xn,n):\n",
    "    h = (xn - x0) / n \n",
    "    integration = f(x0) + f(xn)\n",
    "    \n",
    "    for i in range(1,n):\n",
    "        k = x0 + i*h\n",
    "        integration = integration + 2 * f(k)\n",
    "    integration = integration * h/2\n",
    "    \n",
    "    return integration\n",
    "\n",
    "lower_limit = float(input(\"Enter lower limit of integration: \"))\n",
    "upper_limit = float(input(\"Enter upper limit of integration: \"))\n",
    "sub_interval = int(input(\"Enter number of sub intervals: \"))\n",
    "\n",
    "\n",
    "result = trapezoidal(lower_limit, upper_limit, sub_interval)\n",
    "print(\"Integration result by Trapezoidal method is: %0.6f\" % (result) )"
   ]
  },
  {
   "cell_type": "code",
   "execution_count": null,
   "id": "c66251ee",
   "metadata": {},
   "outputs": [],
   "source": []
  }
 ],
 "metadata": {
  "kernelspec": {
   "display_name": "Python 3 (ipykernel)",
   "language": "python",
   "name": "python3"
  },
  "language_info": {
   "codemirror_mode": {
    "name": "ipython",
    "version": 3
   },
   "file_extension": ".py",
   "mimetype": "text/x-python",
   "name": "python",
   "nbconvert_exporter": "python",
   "pygments_lexer": "ipython3",
   "version": "3.9.7"
  }
 },
 "nbformat": 4,
 "nbformat_minor": 5
}
