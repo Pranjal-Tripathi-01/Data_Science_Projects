{
 "cells": [
  {
   "cell_type": "code",
   "execution_count": 2,
   "id": "4e4e4269",
   "metadata": {},
   "outputs": [
    {
     "name": "stdout",
     "output_type": "stream",
     "text": [
      "Enter number of data points: 4\n",
      "Enter data for x and y: \n",
      "x[0]=0\n",
      "y[0]=2\n",
      "x[1]=1\n",
      "y[1]=3\n",
      "x[2]=2\n",
      "y[2]=12\n",
      "x[3]=5\n",
      "y[3]=147\n",
      "Enter interpolation point: 3\n",
      "Interpolated value at 3.000 is 35.000.\n"
     ]
    }
   ],
   "source": [
    "import numpy as np\n",
    "n = int(input('Enter number of data points: '))\n",
    "x = np.zeros((n))\n",
    "y = np.zeros((n))\n",
    "\n",
    "print('Enter data for x and y: ')\n",
    "for i in range(n):\n",
    "    x[i] = float(input( 'x['+str(i)+']='))\n",
    "    y[i] = float(input( 'y['+str(i)+']='))\n",
    "\n",
    "xp = float(input('Enter interpolation point: '))\n",
    "yp = 0\n",
    "for i in range(n):\n",
    "    \n",
    "    p = 1\n",
    "    \n",
    "    for j in range(n):\n",
    "        if i != j:\n",
    "            p = p * (xp - x[j])/(x[i] - x[j])\n",
    "    \n",
    "    yp = yp + p * y[i]    \n",
    "print('Interpolated value at %.3f is %.3f.' % (xp, yp))"
   ]
  },
  {
   "cell_type": "code",
   "execution_count": null,
   "id": "072b15fd",
   "metadata": {},
   "outputs": [],
   "source": []
  },
  {
   "cell_type": "code",
   "execution_count": null,
   "id": "23f37e3d",
   "metadata": {},
   "outputs": [],
   "source": []
  }
 ],
 "metadata": {
  "kernelspec": {
   "display_name": "Python 3 (ipykernel)",
   "language": "python",
   "name": "python3"
  },
  "language_info": {
   "codemirror_mode": {
    "name": "ipython",
    "version": 3
   },
   "file_extension": ".py",
   "mimetype": "text/x-python",
   "name": "python",
   "nbconvert_exporter": "python",
   "pygments_lexer": "ipython3",
   "version": "3.9.7"
  }
 },
 "nbformat": 4,
 "nbformat_minor": 5
}
